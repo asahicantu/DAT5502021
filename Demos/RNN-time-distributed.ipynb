{
 "cells": [
  {
   "cell_type": "markdown",
   "metadata": {},
   "source": [
    "## RNN"
   ]
  },
  {
   "cell_type": "code",
   "execution_count": 2,
   "metadata": {},
   "outputs": [],
   "source": [
    "import tensorflow as tf\n",
    "import numpy as np\n",
    "import Utils.Evaluation"
   ]
  },
  {
   "cell_type": "code",
   "execution_count": 3,
   "metadata": {},
   "outputs": [],
   "source": [
    "from Utils import Pickle"
   ]
  },
  {
   "cell_type": "code",
   "execution_count": 5,
   "metadata": {},
   "outputs": [
    {
     "name": "stdout",
     "output_type": "stream",
     "text": [
      "Loading pickle file from data/out/pickle/mel_spec.pkl\n"
     ]
    }
   ],
   "source": [
    "(X_melspec_train, X_melspec_test, X_melspec_valid, y_melspec_train, y_melspec_test, y_melspec_valid) = Pickle.load_pickle('data/out/pickle/mel_spec.pkl')\n",
    "#(X_mfcc_train, X_mfcc_test, X_mfcc_valid, y_mfcc_train, y_mfcc_test, y_mfcc_valid) = Pickle.load_pickle('mfcc.pkl')\n",
    "#(X_cqt_train, X_cqt_test, X_cqt_valid, y_cqt_train, y_cqt_test, y_cqt_valid) = Pickle.load_pickle('cqt.pkl')"
   ]
  },
  {
   "cell_type": "code",
   "execution_count": 6,
   "metadata": {},
   "outputs": [
    {
     "data": {
      "text/plain": [
       "((171566, 400), (57200, 400), (57200, 400))"
      ]
     },
     "execution_count": 6,
     "metadata": {},
     "output_type": "execute_result"
    }
   ],
   "source": [
    "X_train = np.array([spec.flatten() for spec in X_melspec_train])\n",
    "X_test = np.array([spec.flatten() for spec in X_melspec_test])\n",
    "X_valid = np.array([spec.flatten() for spec in X_melspec_valid])\n",
    "X_train.shape, X_test.shape, X_valid.shape # shape = (samples, timesteps, features)"
   ]
  },
  {
   "cell_type": "code",
   "execution_count": 7,
   "metadata": {},
   "outputs": [],
   "source": [
    "def split_in_sequences(data, length):\n",
    "    out = np.zeros([int(np.ceil(data.shape[0]/length)),length,data.shape[1]])\n",
    "    for i in range(int(np.floor(data.shape[0]/length))):\n",
    "        out[i] = (data[i*length:(i+1)*length])\n",
    "    #out[-1]=(data[int(np.floor(data.shape[0]/length))*length:]) # append last batch (possibly shorter than length)\n",
    "    return out"
   ]
  },
  {
   "cell_type": "code",
   "execution_count": 8,
   "metadata": {},
   "outputs": [
    {
     "data": {
      "text/plain": [
       "((8579, 20, 400),\n",
       " (2860, 20, 400),\n",
       " (2860, 20, 400),\n",
       " (8579, 20, 88),\n",
       " (2860, 20, 88),\n",
       " (2860, 20, 88))"
      ]
     },
     "execution_count": 8,
     "metadata": {},
     "output_type": "execute_result"
    }
   ],
   "source": [
    "Xtr = split_in_sequences(X_train, 20)\n",
    "Xte = split_in_sequences(X_test, 20)\n",
    "Xva = split_in_sequences(X_valid, 20)\n",
    "ytr = split_in_sequences(y_melspec_train, 20)\n",
    "yte = split_in_sequences(y_melspec_test, 20)\n",
    "yva = split_in_sequences(y_melspec_valid, 20)\n",
    "Xtr.shape, Xte.shape, Xva.shape, ytr.shape, yte.shape, yva.shape"
   ]
  },
  {
   "cell_type": "code",
   "execution_count": 31,
   "metadata": {},
   "outputs": [
    {
     "data": {
      "text/plain": [
       "<module 'Utils.Models.LSTM_time_distributed' from 'C:\\\\development\\\\repos\\\\Uni\\\\dat550-2021\\\\DAT5502021\\\\Utils\\\\Models\\\\LSTM_time_distributed.py'>"
      ]
     },
     "execution_count": 31,
     "metadata": {},
     "output_type": "execute_result"
    }
   ],
   "source": [
    "from Utils.Models import Model\r\n",
    "import Utils.Models.LSTM\r\n",
    "import importlib\r\n",
    "importlib.reload(Train)\r\n",
    "importlib.reload(Utils.Models.LSTM)"
   ]
  },
  {
   "cell_type": "code",
   "execution_count": 32,
   "metadata": {},
   "outputs": [
    {
     "name": "stdout",
     "output_type": "stream",
     "text": [
      "Epoch 1/200\n",
      "\n",
      "Epoch 00001: val_loss improved from inf to 0.13181, saving model to models\\LSTM_TD.h5\n",
      "Epoch 2/200\n",
      "\n",
      "Epoch 00002: val_loss improved from 0.13181 to 0.13055, saving model to models\\LSTM_TD.h5\n",
      "Epoch 3/200\n",
      "\n",
      "Epoch 00003: val_loss improved from 0.13055 to 0.13016, saving model to models\\LSTM_TD.h5\n",
      "Epoch 4/200\n",
      "\n",
      "Epoch 00004: val_loss improved from 0.13016 to 0.12986, saving model to models\\LSTM_TD.h5\n",
      "Epoch 5/200\n",
      "\n",
      "Epoch 00005: val_loss improved from 0.12986 to 0.12895, saving model to models\\LSTM_TD.h5\n",
      "Epoch 6/200\n",
      "\n",
      "Epoch 00006: val_loss improved from 0.12895 to 0.12480, saving model to models\\LSTM_TD.h5\n",
      "Epoch 7/200\n",
      "\n",
      "Epoch 00007: val_loss improved from 0.12480 to 0.12426, saving model to models\\LSTM_TD.h5\n",
      "Epoch 8/200\n",
      "\n",
      "Epoch 00008: val_loss improved from 0.12426 to 0.12229, saving model to models\\LSTM_TD.h5\n",
      "Epoch 9/200\n",
      "\n",
      "Epoch 00009: val_loss improved from 0.12229 to 0.11750, saving model to models\\LSTM_TD.h5\n",
      "Epoch 10/200\n",
      "\n",
      "Epoch 00010: val_loss improved from 0.11750 to 0.11654, saving model to models\\LSTM_TD.h5\n",
      "Epoch 11/200\n",
      "\n",
      "Epoch 00011: val_loss improved from 0.11654 to 0.11535, saving model to models\\LSTM_TD.h5\n",
      "Epoch 12/200\n",
      "\n",
      "Epoch 00012: val_loss improved from 0.11535 to 0.11473, saving model to models\\LSTM_TD.h5\n",
      "Epoch 13/200\n",
      "\n",
      "Epoch 00013: val_loss improved from 0.11473 to 0.11415, saving model to models\\LSTM_TD.h5\n",
      "Epoch 14/200\n",
      "\n",
      "Epoch 00014: val_loss improved from 0.11415 to 0.11304, saving model to models\\LSTM_TD.h5\n",
      "Epoch 15/200\n",
      "\n",
      "Epoch 00015: val_loss improved from 0.11304 to 0.11185, saving model to models\\LSTM_TD.h5\n",
      "Epoch 16/200\n",
      "\n",
      "Epoch 00016: val_loss improved from 0.11185 to 0.11159, saving model to models\\LSTM_TD.h5\n",
      "Epoch 17/200\n",
      "\n",
      "Epoch 00017: val_loss improved from 0.11159 to 0.11079, saving model to models\\LSTM_TD.h5\n",
      "Epoch 18/200\n",
      "\n",
      "Epoch 00018: val_loss improved from 0.11079 to 0.10989, saving model to models\\LSTM_TD.h5\n",
      "Epoch 19/200\n",
      "\n",
      "Epoch 00019: val_loss improved from 0.10989 to 0.10971, saving model to models\\LSTM_TD.h5\n",
      "Epoch 20/200\n",
      "\n",
      "Epoch 00020: val_loss improved from 0.10971 to 0.10876, saving model to models\\LSTM_TD.h5\n",
      "Epoch 21/200\n",
      "\n",
      "Epoch 00021: val_loss did not improve from 0.10876\n",
      "Epoch 22/200\n",
      "\n",
      "Epoch 00022: val_loss improved from 0.10876 to 0.10808, saving model to models\\LSTM_TD.h5\n",
      "Epoch 23/200\n",
      "\n",
      "Epoch 00023: val_loss improved from 0.10808 to 0.10788, saving model to models\\LSTM_TD.h5\n",
      "Epoch 24/200\n",
      "\n",
      "Epoch 00024: val_loss did not improve from 0.10788\n",
      "Epoch 25/200\n",
      "\n",
      "Epoch 00025: val_loss did not improve from 0.10788\n",
      "Epoch 26/200\n",
      "\n",
      "Epoch 00026: val_loss improved from 0.10788 to 0.10774, saving model to models\\LSTM_TD.h5\n",
      "Epoch 27/200\n",
      "\n",
      "Epoch 00027: val_loss did not improve from 0.10774\n",
      "Epoch 28/200\n",
      "\n",
      "Epoch 00028: val_loss improved from 0.10774 to 0.10754, saving model to models\\LSTM_TD.h5\n",
      "Epoch 29/200\n",
      "\n",
      "Epoch 00029: val_loss improved from 0.10754 to 0.10731, saving model to models\\LSTM_TD.h5\n",
      "Epoch 30/200\n",
      "\n",
      "Epoch 00030: val_loss did not improve from 0.10731\n",
      "Epoch 31/200\n",
      "\n",
      "Epoch 00031: val_loss improved from 0.10731 to 0.10704, saving model to models\\LSTM_TD.h5\n",
      "Epoch 32/200\n",
      "\n",
      "Epoch 00032: val_loss did not improve from 0.10704\n",
      "Epoch 33/200\n",
      "\n",
      "Epoch 00033: val_loss did not improve from 0.10704\n",
      "Epoch 34/200\n",
      "\n",
      "Epoch 00034: val_loss did not improve from 0.10704\n",
      "Epoch 35/200\n",
      "\n",
      "Epoch 00035: val_loss improved from 0.10704 to 0.10679, saving model to models\\LSTM_TD.h5\n",
      "Epoch 36/200\n",
      "\n",
      "Epoch 00036: val_loss did not improve from 0.10679\n",
      "Epoch 37/200\n",
      "\n",
      "Epoch 00037: val_loss did not improve from 0.10679\n",
      "Epoch 38/200\n",
      "\n",
      "Epoch 00038: val_loss did not improve from 0.10679\n",
      "Epoch 39/200\n",
      "\n",
      "Epoch 00039: val_loss did not improve from 0.10679\n",
      "Epoch 40/200\n",
      "\n",
      "Epoch 00040: val_loss did not improve from 0.10679\n",
      "Epoch 41/200\n",
      "\n",
      "Epoch 00041: val_loss did not improve from 0.10679\n",
      "Epoch 42/200\n",
      "\n",
      "Epoch 00042: val_loss did not improve from 0.10679\n",
      "Epoch 43/200\n",
      "\n",
      "Epoch 00043: val_loss did not improve from 0.10679\n"
     ]
    },
    {
     "data": {
      "text/plain": [
       "<tensorflow.python.keras.engine.sequential.Sequential at 0x1a1bf922a90>"
      ]
     },
     "execution_count": 32,
     "metadata": {},
     "output_type": "execute_result"
    }
   ],
   "source": [
    "Model.train(Xtr,\r\n",
    "            ytr,\r\n",
    "            Xte,\r\n",
    "            yte,\r\n",
    "            batch_size=40,\r\n",
    "            model_type='LSTM_TD',\r\n",
    "            shape=Xtr[0].shape,\r\n",
    "            early_stop_after=8)"
   ]
  },
  {
   "cell_type": "code",
   "execution_count": 33,
   "metadata": {},
   "outputs": [],
   "source": [
    "model = tf.keras.models.load_model('models/LSTM_TD.h5')\n",
    "old_model = tf.keras.models.load_model('models/LSTM_TimeDistr.h5')"
   ]
  },
  {
   "cell_type": "code",
   "execution_count": 34,
   "metadata": {},
   "outputs": [],
   "source": [
    "pred = model(Xva)\n",
    "old_pred = old_model(Xva)"
   ]
  },
  {
   "cell_type": "code",
   "execution_count": 35,
   "metadata": {},
   "outputs": [
    {
     "data": {
      "text/plain": [
       "<tf.Tensor: shape=(2, 2), dtype=int32, numpy=\n",
       "array([[4836695,  138202],\n",
       "       [  34969,   23734]])>"
      ]
     },
     "execution_count": 35,
     "metadata": {},
     "output_type": "execute_result"
    }
   ],
   "source": [
    "Utils.Evaluation.get_confusion_matrix(pred, yva, threshold=0.3)"
   ]
  },
  {
   "cell_type": "code",
   "execution_count": 36,
   "metadata": {},
   "outputs": [
    {
     "data": {
      "text/plain": [
       "<tf.Tensor: shape=(2, 2), dtype=int32, numpy=\n",
       "array([[4829800,  134929],\n",
       "       [  41864,   27007]])>"
      ]
     },
     "execution_count": 36,
     "metadata": {},
     "output_type": "execute_result"
    }
   ],
   "source": [
    "Utils.Evaluation.get_confusion_matrix(old_pred, yva, threshold=0.3)"
   ]
  },
  {
   "cell_type": "code",
   "execution_count": 37,
   "metadata": {},
   "outputs": [
    {
     "name": "stdout",
     "output_type": "stream",
     "text": [
      "Area under curve: 0.8821955145591586\n"
     ]
    },
    {
     "data": {
      "image/png": "[encoded data removed]",
      "text/plain": [
       "<Figure size 432x288 with 1 Axes>"
      ]
     },
     "metadata": {
      "needs_background": "light"
     },
     "output_type": "display_data"
    }
   ],
   "source": [
    "Utils.Evaluation.plot_roc_curve(pred, yva)"
   ]
  },
  {
   "cell_type": "code",
   "execution_count": 38,
   "metadata": {},
   "outputs": [
    {
     "name": "stdout",
     "output_type": "stream",
     "text": [
      "Area under curve: 0.8815350377366652\n"
     ]
    },
    {
     "data": {
      "image/png": "[encoded data removed]",
      "text/plain": [
       "<Figure size 432x288 with 1 Axes>"
      ]
     },
     "metadata": {
      "needs_background": "light"
     },
     "output_type": "display_data"
    }
   ],
   "source": [
    "Utils.Evaluation.plot_roc_curve(old_pred, yva)"
   ]
  },
  {
   "cell_type": "code",
   "execution_count": 39,
   "metadata": {},
   "outputs": [
    {
     "name": "stdout",
     "output_type": "stream",
     "text": [
      "accuracy 0.9680501033057851\n",
      "precision 0.5457685664939551\n",
      "recall 0.04097915225768205\n",
      "f1 0.07623423992647693\n"
     ]
    }
   ],
   "source": [
    "print(\"accuracy\", Utils.Evaluation.get_metric(pred, yva, 'accuracy'))\n",
    "print(\"precision\", Utils.Evaluation.get_metric(pred, yva, 'precision'))\n",
    "print(\"recall\", Utils.Evaluation.get_metric(pred, yva, 'recall'))\n",
    "print(\"f1\", Utils.Evaluation.get_metric(pred, yva, 'F1'))"
   ]
  },
  {
   "cell_type": "code",
   "execution_count": 40,
   "metadata": {},
   "outputs": [
    {
     "name": "stdout",
     "output_type": "stream",
     "text": [
      "accuracy 0.9680814923712651\n",
      "precision 0.5465056714233443\n",
      "recall 0.046116984487698846\n",
      "f1 0.08505646323198615\n"
     ]
    }
   ],
   "source": [
    "print(\"accuracy\", Utils.Evaluation.get_metric(old_pred, yva, 'accuracy'))\n",
    "print(\"precision\", Utils.Evaluation.get_metric(old_pred, yva, 'precision'))\n",
    "print(\"recall\", Utils.Evaluation.get_metric(old_pred, yva, 'recall'))\n",
    "print(\"f1\", Utils.Evaluation.get_metric(old_pred, yva, 'F1'))"
   ]
  },
  {
   "cell_type": "code",
   "execution_count": null,
   "metadata": {},
   "outputs": [],
   "source": []
  }
 ],
 "metadata": {
  "kernelspec": {
   "display_name": "Python 3.8.9 64-bit",
   "name": "python389jvsc74a57bd081f787511eac16c0f08bc3f79587249acbad11b06be2962b133dcdfa41c30393"
  },
  "language_info": {
   "name": "python",
   "version": ""
  }
 },
 "nbformat": 4,
 "nbformat_minor": 4
}