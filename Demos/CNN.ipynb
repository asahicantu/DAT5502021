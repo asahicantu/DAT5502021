{
 "cells": [
  {
   "cell_type": "markdown",
   "metadata": {},
   "source": [
    "## RNN"
   ]
  },
  {
   "cell_type": "code",
   "execution_count": 1,
   "metadata": {},
   "outputs": [],
   "source": [
    "import tensorflow as tf\n",
    "import numpy as np\n",
    "import Utils.Evaluation"
   ]
  },
  {
   "cell_type": "code",
   "execution_count": 2,
   "metadata": {},
   "outputs": [],
   "source": [
    "from Utils import Pickle"
   ]
  },
  {
   "cell_type": "code",
   "execution_count": 3,
   "metadata": {},
   "outputs": [
    {
     "name": "stdout",
     "output_type": "stream",
     "text": [
      "Data\\Out\\Pickle\\mel_spec.pkl\n",
      "Data\\Out\\Pickle\\mfcc.pkl\n",
      "Data\\Out\\Pickle\\cqt.pkl\n"
     ]
    }
   ],
   "source": [
    "(X_melspec_train, X_melspec_test, X_melspec_valid, y_melspec_train, y_melspec_test, y_melspec_valid) = Pickle.load_pickle('mel_spec.pkl')\n",
    "(X_mfcc_train, X_mfcc_test, X_mfcc_valid, y_mfcc_train, y_mfcc_test, y_mfcc_valid) = Pickle.load_pickle('mfcc.pkl')\n",
    "(X_cqt_train, X_cqt_test, X_cqt_valid, y_cqt_train, y_cqt_test, y_cqt_valid) = Pickle.load_pickle('cqt.pkl')"
   ]
  },
  {
   "cell_type": "code",
   "execution_count": 4,
   "metadata": {},
   "outputs": [
    {
     "data": {
      "text/plain": [
       "((171566, 2, 200), (57200, 2, 200), (57200, 2, 200))"
      ]
     },
     "execution_count": 4,
     "metadata": {},
     "output_type": "execute_result"
    }
   ],
   "source": [
    "X_train = X_melspec_train.swapaxes(1,2)\n",
    "X_test = X_melspec_test.swapaxes(1,2)\n",
    "X_valid = X_melspec_valid.swapaxes(1,2)\n",
    "X_train.shape, X_test.shape, X_valid.shape # shape = (samples, timesteps, features)"
   ]
  },
  {
   "cell_type": "code",
   "execution_count": 108,
   "metadata": {},
   "outputs": [
    {
     "name": "stdout",
     "output_type": "stream",
     "text": [
      "Model: \"sequential_15\"\n",
      "_________________________________________________________________\n",
      "Layer (type)                 Output Shape              Param #   \n",
      "=================================================================\n",
      "lstm_37 (LSTM)               (None, 2, 100)            120400    \n",
      "_________________________________________________________________\n",
      "dropout_48 (Dropout)         (None, 2, 100)            0         \n",
      "_________________________________________________________________\n",
      "lstm_38 (LSTM)               (None, 2, 100)            80400     \n",
      "_________________________________________________________________\n",
      "dropout_49 (Dropout)         (None, 2, 100)            0         \n",
      "_________________________________________________________________\n",
      "lstm_39 (LSTM)               (None, 100)               80400     \n",
      "_________________________________________________________________\n",
      "dropout_50 (Dropout)         (None, 100)               0         \n",
      "_________________________________________________________________\n",
      "dense_44 (Dense)             (None, 200)               20200     \n",
      "_________________________________________________________________\n",
      "dropout_51 (Dropout)         (None, 200)               0         \n",
      "_________________________________________________________________\n",
      "dense_45 (Dense)             (None, 200)               40200     \n",
      "_________________________________________________________________\n",
      "dropout_52 (Dropout)         (None, 200)               0         \n",
      "_________________________________________________________________\n",
      "dense_46 (Dense)             (None, 88)                17688     \n",
      "=================================================================\n",
      "Total params: 359,288\n",
      "Trainable params: 359,288\n",
      "Non-trainable params: 0\n",
      "_________________________________________________________________\n"
     ]
    }
   ],
   "source": [
    "from Utils.Models import Model\r\n",
    "import importlib\r\n",
    "import Utils.Models.LSTM as LSTM\r\n",
    "importlib.reload(Model)\r\n",
    "importlib.reload(LSTM)\r\n",
    "\r\n",
    "\r\n",
    "#model = LSTM.LSTM(X_train[0].shape)\r\n",
    "model = tf.keras.Sequential()\r\n",
    "model.add(tf.keras.layers.LSTM(units=100, activation='tanh', return_sequences=True, input_shape = X_train[0].shape))\r\n",
    "model.add(tf.keras.layers.Dropout(rate=0.3))\r\n",
    "model.add(tf.keras.layers.LSTM(units=100, activation='tanh', return_sequences=True))\r\n",
    "model.add(tf.keras.layers.Dropout(rate=0.3))\r\n",
    "model.add(tf.keras.layers.LSTM(units=100, activation='tanh', return_sequences=False))\r\n",
    "model.add(tf.keras.layers.Dropout(rate=0.3))\r\n",
    "model.add(tf.keras.layers.Dense(200, activation='relu', kernel_regularizer=tf.keras.regularizers.l2(0.0001)))\r\n",
    "model.add(tf.keras.layers.Dropout(rate=0.1))\r\n",
    "model.add(tf.keras.layers.Dense(200, activation='relu', kernel_regularizer=tf.keras.regularizers.l2(0.0001)))\r\n",
    "model.add(tf.keras.layers.Dropout(rate=0.1))\r\n",
    "model.add(tf.keras.layers.Dense(88, activation='relu'))\r\n",
    "model.compile(optimizer='rmsprop',\r\n",
    "              loss='binary_crossentropy',\r\n",
    "              metrics=['accuracy'])\r\n",
    "\r\n",
    "\r\n",
    "early_stopping = tf.keras.callbacks.EarlyStopping(patience=5, monitor='val_loss')\r\n",
    "cp = tf.keras.callbacks.ModelCheckpoint('models/LSTIM.h5', monitor='val_loss',\r\n",
    "                         save_best_only=True, save_weights_only=False,\r\n",
    "                         mode='auto', save_freq='epoch', verbose=3)\r\n",
    "model.summary()"
   ]
  },
  {
   "cell_type": "code",
   "execution_count": 109,
   "metadata": {},
   "outputs": [
    {
     "name": "stdout",
     "output_type": "stream",
     "text": [
      "Epoch 1/500\n",
      "215/215 [==============================] - ETA: 0s - loss: 0.1497 - accuracy: 0.0173\n",
      "Epoch 00001: val_loss improved from inf to 0.13442, saving model to models\\LSTIM.h5\n",
      "215/215 [==============================] - 20s 92ms/step - loss: 0.1497 - accuracy: 0.0173 - val_loss: 0.1344 - val_accuracy: 0.0240\n",
      "Epoch 2/500\n",
      "214/215 [============================>.] - ETA: 0s - loss: 0.1277 - accuracy: 0.0200\n",
      "Epoch 00002: val_loss improved from 0.13442 to 0.12898, saving model to models\\LSTIM.h5\n",
      "215/215 [==============================] - 17s 80ms/step - loss: 0.1277 - accuracy: 0.0200 - val_loss: 0.1290 - val_accuracy: 0.0207\n",
      "Epoch 3/500\n",
      "214/215 [============================>.] - ETA: 0s - loss: 0.1248 - accuracy: 0.0225\n",
      "Epoch 00003: val_loss improved from 0.12898 to 0.12798, saving model to models\\LSTIM.h5\n",
      "215/215 [==============================] - 17s 80ms/step - loss: 0.1248 - accuracy: 0.0225 - val_loss: 0.1280 - val_accuracy: 0.0244\n",
      "Epoch 4/500\n",
      "214/215 [============================>.] - ETA: 0s - loss: 0.1233 - accuracy: 0.0235\n",
      "Epoch 00004: val_loss improved from 0.12798 to 0.12709, saving model to models\\LSTIM.h5\n",
      "215/215 [==============================] - 17s 81ms/step - loss: 0.1233 - accuracy: 0.0235 - val_loss: 0.1271 - val_accuracy: 0.0246\n",
      "Epoch 5/500\n",
      "214/215 [============================>.] - ETA: 0s - loss: 0.1223 - accuracy: 0.0243\n",
      "Epoch 00005: val_loss improved from 0.12709 to 0.12547, saving model to models\\LSTIM.h5\n",
      "215/215 [==============================] - 17s 81ms/step - loss: 0.1223 - accuracy: 0.0243 - val_loss: 0.1255 - val_accuracy: 0.0252\n",
      "Epoch 6/500\n",
      "214/215 [============================>.] - ETA: 0s - loss: 0.1213 - accuracy: 0.0264\n",
      "Epoch 00006: val_loss improved from 0.12547 to 0.12466, saving model to models\\LSTIM.h5\n",
      "215/215 [==============================] - 17s 81ms/step - loss: 0.1213 - accuracy: 0.0264 - val_loss: 0.1247 - val_accuracy: 0.0287\n",
      "Epoch 7/500\n",
      "215/215 [==============================] - ETA: 0s - loss: 0.1211 - accuracy: 0.0273\n",
      "Epoch 00007: val_loss did not improve from 0.12466\n",
      "215/215 [==============================] - 17s 81ms/step - loss: 0.1211 - accuracy: 0.0273 - val_loss: 0.1259 - val_accuracy: 0.0281\n",
      "Epoch 8/500\n",
      "214/215 [============================>.] - ETA: 0s - loss: 0.1208 - accuracy: 0.0278\n",
      "Epoch 00008: val_loss did not improve from 0.12466\n",
      "215/215 [==============================] - 18s 82ms/step - loss: 0.1208 - accuracy: 0.0278 - val_loss: 0.1266 - val_accuracy: 0.0315\n",
      "Epoch 9/500\n",
      "214/215 [============================>.] - ETA: 0s - loss: 0.1202 - accuracy: 0.0290\n",
      "Epoch 00009: val_loss did not improve from 0.12466\n",
      "215/215 [==============================] - 18s 82ms/step - loss: 0.1202 - accuracy: 0.0290 - val_loss: 0.1258 - val_accuracy: 0.0354\n",
      "Epoch 10/500\n",
      "214/215 [============================>.] - ETA: 0s - loss: 0.1204 - accuracy: 0.0297\n",
      "Epoch 00010: val_loss did not improve from 0.12466\n",
      "215/215 [==============================] - 18s 82ms/step - loss: 0.1204 - accuracy: 0.0297 - val_loss: 0.1247 - val_accuracy: 0.0302\n",
      "Epoch 11/500\n",
      "214/215 [============================>.] - ETA: 0s - loss: 0.1202 - accuracy: 0.0295\n",
      "Epoch 00011: val_loss improved from 0.12466 to 0.12432, saving model to models\\LSTIM.h5\n",
      "215/215 [==============================] - 18s 82ms/step - loss: 0.1202 - accuracy: 0.0295 - val_loss: 0.1243 - val_accuracy: 0.0276\n",
      "Epoch 12/500\n",
      "214/215 [============================>.] - ETA: 0s - loss: 0.1199 - accuracy: 0.0288\n",
      "Epoch 00012: val_loss did not improve from 0.12432\n",
      "215/215 [==============================] - 18s 81ms/step - loss: 0.1199 - accuracy: 0.0288 - val_loss: 0.1255 - val_accuracy: 0.0292\n",
      "Epoch 13/500\n",
      "214/215 [============================>.] - ETA: 0s - loss: 0.1203 - accuracy: 0.0297\n",
      "Epoch 00013: val_loss did not improve from 0.12432\n",
      "215/215 [==============================] - 17s 81ms/step - loss: 0.1204 - accuracy: 0.0297 - val_loss: 0.1263 - val_accuracy: 0.0261\n",
      "Epoch 14/500\n",
      "215/215 [==============================] - ETA: 0s - loss: 0.1202 - accuracy: 0.0304\n",
      "Epoch 00014: val_loss improved from 0.12432 to 0.12413, saving model to models\\LSTIM.h5\n",
      "215/215 [==============================] - 18s 82ms/step - loss: 0.1202 - accuracy: 0.0304 - val_loss: 0.1241 - val_accuracy: 0.0335\n",
      "Epoch 15/500\n",
      "214/215 [============================>.] - ETA: 0s - loss: 0.1198 - accuracy: 0.0292\n",
      "Epoch 00015: val_loss did not improve from 0.12413\n",
      "215/215 [==============================] - 18s 84ms/step - loss: 0.1198 - accuracy: 0.0292 - val_loss: 0.1276 - val_accuracy: 0.0303\n",
      "Epoch 16/500\n",
      "215/215 [==============================] - ETA: 0s - loss: 0.1197 - accuracy: 0.0316\n",
      "Epoch 00016: val_loss did not improve from 0.12413\n",
      "215/215 [==============================] - 18s 85ms/step - loss: 0.1197 - accuracy: 0.0316 - val_loss: 0.1246 - val_accuracy: 0.0330\n",
      "Epoch 17/500\n",
      "214/215 [============================>.] - ETA: 0s - loss: 0.1197 - accuracy: 0.0309\n",
      "Epoch 00017: val_loss improved from 0.12413 to 0.12379, saving model to models\\LSTIM.h5\n",
      "215/215 [==============================] - 17s 81ms/step - loss: 0.1198 - accuracy: 0.0309 - val_loss: 0.1238 - val_accuracy: 0.0303\n",
      "Epoch 18/500\n",
      "215/215 [==============================] - ETA: 0s - loss: 0.1198 - accuracy: 0.0313\n",
      "Epoch 00018: val_loss did not improve from 0.12379\n",
      "215/215 [==============================] - 18s 83ms/step - loss: 0.1198 - accuracy: 0.0313 - val_loss: 0.1251 - val_accuracy: 0.0355\n",
      "Epoch 19/500\n",
      "214/215 [============================>.] - ETA: 0s - loss: 0.1200 - accuracy: 0.0330\n",
      "Epoch 00019: val_loss did not improve from 0.12379\n",
      "215/215 [==============================] - 19s 87ms/step - loss: 0.1200 - accuracy: 0.0330 - val_loss: 0.1276 - val_accuracy: 0.0318\n",
      "Epoch 20/500\n",
      "214/215 [============================>.] - ETA: 0s - loss: 0.1203 - accuracy: 0.0315\n",
      "Epoch 00020: val_loss did not improve from 0.12379\n",
      "215/215 [==============================] - 18s 81ms/step - loss: 0.1203 - accuracy: 0.0315 - val_loss: 0.1252 - val_accuracy: 0.0311\n",
      "Epoch 21/500\n",
      "215/215 [==============================] - ETA: 0s - loss: 0.1202 - accuracy: 0.0310\n",
      "Epoch 00021: val_loss did not improve from 0.12379\n",
      "215/215 [==============================] - 17s 81ms/step - loss: 0.1202 - accuracy: 0.0310 - val_loss: 0.1248 - val_accuracy: 0.0336\n",
      "Epoch 22/500\n",
      "215/215 [==============================] - ETA: 0s - loss: 0.1197 - accuracy: 0.0320\n",
      "Epoch 00022: val_loss did not improve from 0.12379\n",
      "215/215 [==============================] - 18s 83ms/step - loss: 0.1197 - accuracy: 0.0320 - val_loss: 0.1239 - val_accuracy: 0.0363\n"
     ]
    },
    {
     "data": {
      "text/plain": [
       "\"Train.train(X_train,\\n            y_melspec_train[:800],\\n            X_test,\\n            y_melspec_test[:800],\\n            batch_size=800,\\n            n_classes=88,\\n            model_type='LSTM',\\n            sr=None,\\n            max_freq=None,\\n            shape=X_train[0].shape)\""
      ]
     },
     "execution_count": 109,
     "metadata": {},
     "output_type": "execute_result"
    }
   ],
   "source": [
    "model.fit(X_train,y_melspec_train,epochs=500,batch_size = 800, validation_data=(X_test,y_melspec_test),callbacks=[cp,early_stopping])\r\n",
    " \r\n",
    "'''Model.train(X_train,\r\n",
    "            y_melspec_train[:800],\r\n",
    "            X_test,\r\n",
    "            y_melspec_test[:800],\r\n",
    "            batch_size=800,\r\n",
    "            n_classes=88,\r\n",
    "            model_type='LSTM',\r\n",
    "            sr=None,\r\n",
    "            max_freq=None,\r\n",
    "            shape=X_train[0].shape)'''"
   ]
  },
  {
   "cell_type": "code",
   "execution_count": 110,
   "metadata": {},
   "outputs": [],
   "source": [
    "pred = model(X_valid[:10000])"
   ]
  },
  {
   "cell_type": "code",
   "execution_count": 111,
   "metadata": {},
   "outputs": [
    {
     "data": {
      "text/plain": [
       "<tf.Tensor: shape=(2, 2), dtype=int32, numpy=\n",
       "array([[850306,  28694],\n",
       "       [   504,    496]])>"
      ]
     },
     "execution_count": 111,
     "metadata": {},
     "output_type": "execute_result"
    }
   ],
   "source": [
    "Utils.Evaluation.get_confusion_matrix(pred, y_melspec_valid[:10000], threshold=0.3)"
   ]
  },
  {
   "cell_type": "code",
   "execution_count": 112,
   "metadata": {},
   "outputs": [
    {
     "name": "stdout",
     "output_type": "stream",
     "text": [
      "Area under curve: 0.8620057540113549\n"
     ]
    },
    {
     "data": {
      "image/png": "[encoded data removed]",
      "text/plain": [
       "<Figure size 432x288 with 1 Axes>"
      ]
     },
     "metadata": {
      "needs_background": "light"
     },
     "output_type": "display_data"
    }
   ],
   "source": [
    "Utils.Evaluation.plot_roc_curve(pred, y_melspec_valid[:10000])"
   ]
  },
  {
   "cell_type": "code",
   "execution_count": null,
   "metadata": {},
   "outputs": [],
   "source": [
    "#print(\"accuracy\", Utils.Evaluation.get_metric(pred, y_melspec_valid[:10000], 'accuracy'))\n",
    "#print(\"precision\", Utils.Evaluation.get_metric(pred, y_melspec_valid[:10000], 'precision'))\n",
    "#print(\"recall\", Utils.Evaluation.get_metric(pred, y_melspec_valid[:10000], 'recall'))"
   ]
  },
  {
   "cell_type": "code",
   "execution_count": 56,
   "metadata": {},
   "outputs": [
    {
     "name": "stdout",
     "output_type": "stream",
     "text": [
      "Model: \"sequential_7\"\n",
      "_________________________________________________________________\n",
      "Layer (type)                 Output Shape              Param #   \n",
      "=================================================================\n",
      "lstm_14 (LSTM)               (None, 2, 200)            320800    \n",
      "_________________________________________________________________\n",
      "dropout_9 (Dropout)          (None, 2, 200)            0         \n",
      "_________________________________________________________________\n",
      "lstm_15 (LSTM)               (None, 200)               320800    \n",
      "_________________________________________________________________\n",
      "dropout_10 (Dropout)         (None, 200)               0         \n",
      "_________________________________________________________________\n",
      "dense_20 (Dense)             (None, 200)               40200     \n",
      "_________________________________________________________________\n",
      "dropout_11 (Dropout)         (None, 200)               0         \n",
      "_________________________________________________________________\n",
      "dense_21 (Dense)             (None, 200)               40200     \n",
      "_________________________________________________________________\n",
      "dropout_12 (Dropout)         (None, 200)               0         \n",
      "_________________________________________________________________\n",
      "dense_22 (Dense)             (None, 88)                17688     \n",
      "=================================================================\n",
      "Total params: 739,688\n",
      "Trainable params: 739,688\n",
      "Non-trainable params: 0\n",
      "_________________________________________________________________\n"
     ]
    }
   ],
   "source": [
    "old_model = tf.keras.models.load_model('models/LSTIM_best.h5')\n",
    "old_model.summary()"
   ]
  },
  {
   "cell_type": "code",
   "execution_count": 98,
   "metadata": {},
   "outputs": [],
   "source": [
    "old_pred = old_model(X_valid[:10000])"
   ]
  },
  {
   "cell_type": "code",
   "execution_count": 72,
   "metadata": {},
   "outputs": [
    {
     "data": {
      "text/plain": [
       "<tf.Tensor: shape=(2, 2), dtype=int32, numpy=\n",
       "array([[847862,  24823],\n",
       "       [  2948,   4367]])>"
      ]
     },
     "execution_count": 72,
     "metadata": {},
     "output_type": "execute_result"
    }
   ],
   "source": [
    "Utils.Evaluation.get_confusion_matrix(old_pred, y_melspec_valid[:10000], threshold=0.5)"
   ]
  },
  {
   "cell_type": "code",
   "execution_count": 76,
   "metadata": {},
   "outputs": [
    {
     "name": "stdout",
     "output_type": "stream",
     "text": [
      "Area under curve: 0.9068797025573103\n"
     ]
    },
    {
     "data": {
      "image/png": "[encoded data removed]",
      "text/plain": [
       "<Figure size 432x288 with 1 Axes>"
      ]
     },
     "metadata": {
      "needs_background": "light"
     },
     "output_type": "display_data"
    }
   ],
   "source": [
    "Utils.Evaluation.plot_roc_curve(old_pred, y_melspec_valid[:10000])"
   ]
  },
  {
   "cell_type": "code",
   "execution_count": null,
   "metadata": {},
   "outputs": [],
   "source": []
  }
 ],
 "metadata": {
  "kernelspec": {
   "display_name": "Python 3.8.9 64-bit",
   "name": "python389jvsc74a57bd081f787511eac16c0f08bc3f79587249acbad11b06be2962b133dcdfa41c30393"
  },
  "language_info": {
   "name": "python",
   "version": ""
  }
 },
 "nbformat": 4,
 "nbformat_minor": 4
}