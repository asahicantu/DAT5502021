{
 "cells": [
  {
   "cell_type": "code",
   "execution_count": 1,
   "metadata": {
    "collapsed": true
   },
   "outputs": [],
   "source": [
    "from Utils import Misc, TrainTestValid, Pickle, Feature, Evaluation\n",
    "from Utils.Models import Model, Accuracy\n",
    "import tensorflow as tf\n",
    "import numpy as np\n",
    "import importlib\n",
    "import os\n"
   ]
  },
  {
   "cell_type": "code",
   "execution_count": 7,
   "outputs": [
    {
     "name": "stdout",
     "output_type": "stream",
     "text": [
      "Loading pickle file from Data\\Out\\Pickle\\features_2D.pkl\n",
      "Loading pickle file from Data\\Out\\Pickle\\labels.pkl\n"
     ]
    }
   ],
   "source": [
    "feature_2D_path = os.path.join(Misc.get_dir('Data','Out','Pickle'),'features_2D.pkl')\n",
    "label_path =  os.path.join(Misc.get_dir('Data','Out','Pickle'),'labels.pkl')\n",
    "\n",
    "features_2D_mel = Pickle.load_pickle(feature_2D_path)['mel']\n",
    "labels = Pickle.load_pickle(label_path)"
   ],
   "metadata": {
    "collapsed": false,
    "pycharm": {
     "name": "#%%\n"
    }
   }
  },
  {
   "cell_type": "code",
   "execution_count": 5,
   "outputs": [
    {
     "name": "stdout",
     "output_type": "stream",
     "text": [
      "loading model CNN2D_mel.h5...\n",
      "loading model LSTM_cqt.h5...\n",
      "loading model LSTM_M2M_cqt.h5...\n",
      "loading model LSTM_M2M_mel.h5...\n",
      "loading model LSTM_M2M_mfcc.h5...\n",
      "loading model LSTM_mel.h5...\n",
      "loading model LSTM_mfcc.h5...\n",
      "loading model MLP_1H_cqt.h5...\n",
      "loading model MLP_1H_mel.h5...\n",
      "loading model MLP_1H_mfcc.h5...\n",
      "loading model MLP_cqt.h5...\n",
      "loading model MLP_mel.h5...\n",
      "loading model MLP_mfcc.h5...\n"
     ]
    }
   ],
   "source": [
    "model_path = Misc.get_dir('Data','Out','Model')\n",
    "CNN_2D_mel = Evaluation.load_models(model_path)['CNN2D_mel']"
   ],
   "metadata": {
    "collapsed": false,
    "pycharm": {
     "name": "#%%\n"
    }
   }
  },
  {
   "cell_type": "code",
   "execution_count": 8,
   "outputs": [],
   "source": [
    "X, y = TrainTestValid.train_test_validation_split(features_2D_mel, labels)\n"
   ],
   "metadata": {
    "collapsed": false,
    "pycharm": {
     "name": "#%%\n"
    }
   }
  },
  {
   "cell_type": "code",
   "execution_count": 11,
   "outputs": [
    {
     "data": {
      "text/plain": "(12960, 106, 80, 3)"
     },
     "execution_count": 11,
     "metadata": {},
     "output_type": "execute_result"
    }
   ],
   "source": [
    "X['valid'].shape"
   ],
   "metadata": {
    "collapsed": false,
    "pycharm": {
     "name": "#%%\n"
    }
   }
  },
  {
   "cell_type": "code",
   "execution_count": 13,
   "outputs": [
    {
     "name": "stderr",
     "output_type": "stream",
     "text": [
      "C:\\development\\repos\\Uni\\dat550-2021\\DAT5502021\\Utils\\Evaluation.py:145: RuntimeWarning: invalid value encountered in double_scalars\n",
      "  f1 = 2*recall[idx]*precision[idx]/(recall[idx]+precision[idx])\n"
     ]
    }
   ],
   "source": [
    "threshold = Evaluation.determine_opt_threshold(CNN_2D_mel(X['test']),y['test'])"
   ],
   "metadata": {
    "collapsed": false,
    "pycharm": {
     "name": "#%%\n"
    }
   }
  },
  {
   "cell_type": "code",
   "execution_count": 14,
   "outputs": [],
   "source": [
    "pred = CNN_2D_mel(X['valid'])"
   ],
   "metadata": {
    "collapsed": false,
    "pycharm": {
     "name": "#%%\n"
    }
   }
  },
  {
   "cell_type": "code",
   "execution_count": 15,
   "outputs": [
    {
     "name": "stdout",
     "output_type": "stream",
     "text": [
      "accuracy 0.7800303381032547\n",
      "precision 0.05438061662102489\n",
      "recall 0.5136271491853743\n",
      "f1 0.0983485183388143\n",
      "threshold 0.02649445\n",
      "[[875927  12956]\n",
      " [237915  13682]]\n",
      "Area under curve: 0.7557202241726186\n"
     ]
    },
    {
     "data": {
      "text/plain": "<Figure size 432x288 with 1 Axes>",
      "image/png": "[encoded data removed]"
     },
     "metadata": {
      "needs_background": "light"
     },
     "output_type": "display_data"
    }
   ],
   "source": [
    "print('accuracy', Evaluation.get_metric(pred, y['valid'], 'accuracy', threshold))\n",
    "print('precision', Evaluation.get_metric(pred, y['valid'], 'precision', threshold))\n",
    "print('recall', Evaluation.get_metric(pred, y['valid'], 'recall', threshold))\n",
    "print('f1', Evaluation.get_metric(pred, y['valid'], 'F1', threshold))\n",
    "print('threshold', threshold)\n",
    "print(Evaluation.get_confusion_matrix(pred, y['valid'], threshold=threshold).numpy())\n",
    "Evaluation.plot_roc_curve(pred, y['valid'])"
   ],
   "metadata": {
    "collapsed": false,
    "pycharm": {
     "name": "#%%\n"
    }
   }
  },
  {
   "cell_type": "code",
   "execution_count": null,
   "outputs": [],
   "source": [],
   "metadata": {
    "collapsed": false,
    "pycharm": {
     "name": "#%%\n"
    }
   }
  }
 ],
 "metadata": {
  "kernelspec": {
   "display_name": "Python 3",
   "language": "python",
   "name": "python3"
  },
  "language_info": {
   "codemirror_mode": {
    "name": "ipython",
    "version": 2
   },
   "file_extension": ".py",
   "mimetype": "text/x-python",
   "name": "python",
   "nbconvert_exporter": "python",
   "pygments_lexer": "ipython2",
   "version": "2.7.6"
  }
 },
 "nbformat": 4,
 "nbformat_minor": 0
}